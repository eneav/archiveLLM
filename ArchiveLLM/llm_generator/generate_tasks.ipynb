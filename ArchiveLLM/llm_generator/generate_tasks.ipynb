{
 "cells": [
  {
   "cell_type": "code",
   "execution_count": 20,
   "metadata": {},
   "outputs": [
    {
     "name": "stdout",
     "output_type": "stream",
     "text": [
      "c:\\own projects\\ArchiveLLM\\venv\\Scripts\\python.exe\n"
     ]
    }
   ],
   "source": [
    "import sys\n",
    "print(sys.executable)\n"
   ]
  },
  {
   "cell_type": "code",
   "execution_count": 21,
   "metadata": {},
   "outputs": [],
   "source": [
    "import os\n",
    "import openai\n",
    "import json\n",
    "from dotenv import load_dotenv                          # damit api-Keys sicher aus der .env geladen werden\n",
    "\n",
    "\n",
    "load_dotenv()                                           #umgebungsvariabeln laden (openai api key)\n",
    "\n",
    "\n",
    "openai.api_key = os.getenv(\"OPENAI_API_KEY\")                #bei openai anmelden      \n",
    "\n",
    "#hiernach ist alles insofern bereit, das der api key genutzt werden kann\n",
    "#wichtig: 1. Api key MUSS immer gesetzt werden\n",
    "#        2. .env muss im gleichenb Verzeichnis wie das Skript liegen\n",
    "#        3. .env muss den api key beinhalten (OPENAI_API_KEY=...)             |  BITTE DEN API KEY IN DIE GITIGNORE DATEI EINTRAGEN, DAMIT ER NICHT GETRACKT WIRD\n",
    "#                                                                             | bei nichteinhalung wird der key evtl von openai als geleaket angezeigt und gesperrt!"
   ]
  },
  {
   "cell_type": "code",
   "execution_count": 22,
   "metadata": {},
   "outputs": [],
   "source": [
    "import pandas as pd                                                             #pandas dient als tool für tabellenverarbeitung\n",
    "\n",
    "df = pd.read_csv(\"../../output/alle_fragen_gesamt.csv\")         #csv datei einlesen, die alle fragen enthält\n",
    "\n",
    "\n",
    "top_themen = df[\"thema\"].value_counts().head(3).index.tolist()              #top 3 Themen ermitteln\n",
    "\n",
    "# Pro Thema: Aufgaben sammeln\n",
    "themen_aufgaben = {\n",
    "    thema: df[df[\"thema\"] == thema][\"frage\"].tolist()        #alle fragen zu den top 3 themen(von top_themen)  in einer liste speichern  \n",
    "    for thema in top_themen\n",
    "}\n",
    "\n",
    "\n",
    "# jetzt haben wir eine Liste mit den 3 häufigsten Themen + den originalfragen dazu \n"
   ]
  },
  {
   "cell_type": "code",
   "execution_count": null,
   "metadata": {},
   "outputs": [],
   "source": [
    "def generate_prompt(thema, fragen_liste):                           #nimmt them +zugehörige fragen als input\n",
    "    #eindeutige Fragen, maximal 5, schön formatiert \n",
    "    joined = \"\\n\".join(dict.fromkeys(frage.strip() for frage in fragen_liste[:5]))                       #nimmt die ersten 5 Fragen und entfernt Duplikate\n",
    "    return f\"\"\"Hier sind fünf echte Prüfungsfragen zum Thema \"{thema}\":                     \n",
    "{joined}\n",
    "\n",
    "Erstelle daraus drei neue, inhaltlich vergleichbare Übungsfragen im selben Stil.\"\"\"\n",
    "\n",
    "\n",
    "from openai import OpenAI           \n",
    "\n",
    "client = OpenAI()            #client wird erstellt um  api zu nutzen | bzw damit die api angesprochen werden kann\n",
    "\n",
    "def call_gpt(prompt):                                            #nimmt den prompt als input  , sendet also den prompt an die api und gibt die antwort zurück\n",
    "    response = client.chat.completions.create(\n",
    "        model=\"gpt-3.5-turbo\",                                       #ANPASSBARS MODELL, ich nahm 3.5, aber 4 wäre auch möglich |je nach bedarf (aber kostenintensiver)\n",
    "        messages=[{\"role\": \"user\", \"content\": prompt}],\n",
    "        temperature=0.7,                                              #je nach bedarf anpasssbar, genauere erklärung der conf score im repo readme\n",
    "    )\n",
    "    return response.choices[0].message.content            #gibt die antwort zurück, die von der api kommt \n",
    "\n",
    "\n",
    "\n",
    "# gesamte logik: erstellt auf Basis Fragen einen Prompt und schickt ihn an GPT und gibt passende Übungsaufgaben zurück"
   ]
  },
  {
   "cell_type": "code",
   "execution_count": 24,
   "metadata": {},
   "outputs": [],
   "source": [
    "results = {}                                                    #dictionary für  ergebnisse\n",
    "\n",
    "for thema, fragen in themen_aufgaben.items():         #loop über alle themen \n",
    "    prompt = generate_prompt(thema, fragen)             #prompt wird erstellt== indem die themen und fragen an die generate_prompt funktion übergeben werden\n",
    "    output = call_gpt(prompt)                      #output wird erstellt== indem der prompt an die call_gpt funktion übergeben wird \n",
    "    \n",
    "    \n",
    "    results[thema] = {                  #speichert die ergebnisse von result in first line \n",
    "        \"prompt\": prompt,\n",
    "        \"generated_tasks\": output\n",
    "    }\n",
    "\n",
    "# speichern\n",
    "os.makedirs(\"generated_tasks\", exist_ok=True)   #erstellt den ordner, falls er nicht existiert\n",
    "with open(\"generated_tasks/aufgaben_llm.json\", \"w\", encoding=\"utf-8\") as f:\n",
    "    json.dump(results, f, indent=2, ensure_ascii=False) #speichert die ergebnisse in einer json datei, die im ordner generated_tasks gespeichert wird (ArchiveLLM\\llm_generator\\generated_tasks)\n",
    "\n",
    "\n",
    "# Für jedes thema wird ein passender Prompt erstellt/iteriert, an gpt geschickt und das Ergebnis als JSON-Datei gespeichert\n"
   ]
  },
  {
   "cell_type": "code",
   "execution_count": 26,
   "metadata": {},
   "outputs": [
    {
     "name": "stdout",
     "output_type": "stream",
     "text": [
      "Export abgeschlossen: generated_tasks/aufgaben_llm_export.pdf\n"
     ]
    }
   ],
   "source": [
    "from fpdf import FPDF\n",
    "import json\n",
    "\n",
    "with open(\"generated_tasks/aufgaben_llm.json\", \"r\", encoding=\"utf-8\") as f:\n",
    "    data = json.load(f)\n",
    "\n",
    "pdf = FPDF()\n",
    "pdf.set_auto_page_break(auto=True, margin=15)\n",
    "pdf.add_page()\n",
    "pdf.set_font(\"Arial\", size=12)\n",
    "\n",
    "pdf.set_title(\"Generierte Prüfungsaufgaben\")\n",
    "\n",
    "for thema, inhalt in data.items():\n",
    "    pdf.set_font(\"Arial\", 'B', size=14)\n",
    "    pdf.cell(0, 10, f\"Thema: {thema}\", ln=True)\n",
    "\n",
    "    pdf.set_font(\"Arial\", '', size=12)\n",
    "    original_fragen = \"\\n\".join(inhalt[\"prompt\"].split(\"\\n\")[1:6])\n",
    "    pdf.multi_cell(0, 10, f\"Originalaufgabe:\\n{original_fragen}\\n\", align=\"L\")\n",
    "    pdf.multi_cell(0, 10, f\"Generierte Aufgaben:\\n{inhalt['generated_tasks']}\\n\\n\", align=\"L\")\n",
    "\n",
    "output_path = \"generated_tasks/aufgaben_llm_export.pdf\"\n",
    "pdf.output(output_path)\n",
    "\n",
    "print(f\"Export abgeschlossen: {output_path}\")\n"
   ]
  }
 ],
 "metadata": {
  "kernelspec": {
   "display_name": "venv",
   "language": "python",
   "name": "python3"
  },
  "language_info": {
   "codemirror_mode": {
    "name": "ipython",
    "version": 3
   },
   "file_extension": ".py",
   "mimetype": "text/x-python",
   "name": "python",
   "nbconvert_exporter": "python",
   "pygments_lexer": "ipython3",
   "version": "3.13.2"
  }
 },
 "nbformat": 4,
 "nbformat_minor": 2
}
