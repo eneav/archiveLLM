{
 "cells": [
  {
   "cell_type": "code",
   "execution_count": 2,
   "metadata": {},
   "outputs": [
    {
     "name": "stdout",
     "output_type": "stream",
     "text": [
      "c:\\own projects\\ArchiveLLM\\venv\\Scripts\\python.exe\n"
     ]
    }
   ],
   "source": [
    "import sys\n",
    "print(sys.executable)\n"
   ]
  },
  {
   "cell_type": "code",
   "execution_count": 3,
   "metadata": {},
   "outputs": [],
   "source": [
    "import os\n",
    "import openai\n",
    "import json\n",
    "from dotenv import load_dotenv\n",
    "\n",
    "load_dotenv()\n",
    "openai.api_key = os.getenv(\"OPENAI_API_KEY\")\n",
    "#setup & API laden"
   ]
  },
  {
   "cell_type": "code",
   "execution_count": 4,
   "metadata": {},
   "outputs": [],
   "source": [
    "import pandas as pd\n",
    "\n",
    "# Lies deine CSV oder kombiniere alle JSONs (je nach Aufbau)\n",
    "df = pd.read_csv(\"../../output/alle_fragen_gesamt.csv\")\n",
    "\n",
    "\n",
    "# Häufigstes Thema ermitteln (Beispiel)\n",
    "top_themen = df[\"thema\"].value_counts().head(3).index.tolist()\n",
    "\n",
    "# Pro Thema: Aufgaben sammeln\n",
    "themen_aufgaben = {\n",
    "    thema: df[df[\"thema\"] == thema][\"frage\"].tolist()\n",
    "    for thema in top_themen\n",
    "}\n",
    "#Häufige Themen und zugehörige Originalaufgaben sammeln"
   ]
  },
  {
   "cell_type": "code",
   "execution_count": null,
   "metadata": {},
   "outputs": [],
   "source": [
    "def generate_prompt(thema, fragen_liste):\n",
    "    #eindeutige Fragen, maximal 5, schön formatiert \n",
    "    joined = \"\\n\".join(set(fragen_liste[:5]))\n",
    "    return f\"\"\"Hier sind fünf echte Prüfungsfragen zum Thema \"{thema}\":\n",
    "{joined}\n",
    "\n",
    "Erstelle daraus drei neue, inhaltlich vergleichbare Übungsfragen im selben Stil.\"\"\"\n",
    "\n",
    "\n",
    "from openai import OpenAI\n",
    "\n",
    "client = OpenAI()\n",
    "\n",
    "def call_gpt(prompt):\n",
    "    response = client.chat.completions.create(\n",
    "        model=\"gpt-3.5-turbo\",\n",
    "        messages=[{\"role\": \"user\", \"content\": prompt}],\n",
    "        temperature=0.7\n",
    "    )\n",
    "    return response.choices[0].message.content"
   ]
  },
  {
   "cell_type": "code",
   "execution_count": 6,
   "metadata": {},
   "outputs": [],
   "source": [
    "results = {}\n",
    "\n",
    "for thema, fragen in themen_aufgaben.items():\n",
    "    prompt = generate_prompt(thema, fragen)\n",
    "    output = call_gpt(prompt)\n",
    "    results[thema] = {\n",
    "        \"prompt\": prompt,\n",
    "        \"generated_tasks\": output\n",
    "    }\n",
    "\n",
    "# speichern\n",
    "os.makedirs(\"generated_tasks\", exist_ok=True)\n",
    "with open(\"generated_tasks/aufgaben_llm.json\", \"w\", encoding=\"utf-8\") as f:\n",
    "    json.dump(results, f, indent=2, ensure_ascii=False)\n",
    "#Loop über alle Themen"
   ]
  },
  {
   "cell_type": "code",
   "execution_count": 8,
   "metadata": {},
   "outputs": [
    {
     "name": "stdout",
     "output_type": "stream",
     "text": [
      "✅ Export abgeschlossen: generated_tasks/aufgaben_llm_export.pdf\n"
     ]
    }
   ],
   "source": [
    "#  Exportiere die generierten Aufgaben als PDF\n",
    "from fpdf import FPDF\n",
    "import json\n",
    "\n",
    "# Lade die JSON-Datei\n",
    "with open(\"generated_tasks/aufgaben_llm.json\", \"r\", encoding=\"utf-8\") as f:\n",
    "    data = json.load(f)\n",
    "\n",
    "# PDF vorbereiten\n",
    "pdf = FPDF()\n",
    "pdf.set_auto_page_break(auto=True, margin=15)\n",
    "pdf.add_page()\n",
    "pdf.set_font(\"Arial\", size=12)\n",
    "\n",
    "pdf.set_title(\"Generierte Prüfungsaufgaben\")\n",
    "\n",
    "for thema, inhalt in data.items():\n",
    "    pdf.set_font(\"Arial\", 'B', size=14)\n",
    "    pdf.cell(0, 10, f\"Thema: {thema}\", ln=True)\n",
    "    \n",
    "    pdf.set_font(\"Arial\", '', size=12)\n",
    "    pdf.multi_cell(0, 10, f\"Prompt:\\n{inhalt['prompt']}\\n\", align=\"L\")\n",
    "    pdf.multi_cell(0, 10, f\"Generierte Aufgaben:\\n{inhalt['generated_tasks']}\\n\\n\", align=\"L\")\n",
    "\n",
    "# PDF speichern\n",
    "output_path = \"generated_tasks/aufgaben_llm_export.pdf\"\n",
    "pdf.output(output_path)\n",
    "\n",
    "print(f\"✅ Export abgeschlossen: {output_path}\")\n"
   ]
  }
 ],
 "metadata": {
  "kernelspec": {
   "display_name": "venv",
   "language": "python",
   "name": "python3"
  },
  "language_info": {
   "codemirror_mode": {
    "name": "ipython",
    "version": 3
   },
   "file_extension": ".py",
   "mimetype": "text/x-python",
   "name": "python",
   "nbconvert_exporter": "python",
   "pygments_lexer": "ipython3",
   "version": "3.13.2"
  }
 },
 "nbformat": 4,
 "nbformat_minor": 2
}
